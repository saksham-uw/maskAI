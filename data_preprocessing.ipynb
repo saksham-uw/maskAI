{
  "nbformat": 4,
  "nbformat_minor": 0,
  "metadata": {
    "colab": {
      "name": "data_preprocessing.ipynb",
      "provenance": []
    },
    "kernelspec": {
      "name": "python3",
      "display_name": "Python 3"
    },
    "language_info": {
      "name": "python"
    }
  },
  "cells": [
    {
      "cell_type": "code",
      "metadata": {
        "colab": {
          "base_uri": "https://localhost:8080/"
        },
        "id": "iC20sOrP-mUG",
        "outputId": "aecf0b77-927b-45b6-eb2e-ebc62b84ca74"
      },
      "source": [
        "import cv2, os\n",
        "\n",
        "dataset_path = 'dataset'\n",
        "data_categories = os.listdir(dataset_path)\n",
        "data_labels = [i for i in range(len(data_categories))]\n",
        "\n",
        "label_dict = dict(zip(data_categories, data_labels))\n",
        "\n",
        "print(data_categories)\n",
        "print(data_labels)\n",
        "print(label_dict)"
      ],
      "execution_count": 4,
      "outputs": [
        {
          "output_type": "stream",
          "text": [
            "['without mask', 'with mask']\n",
            "[0, 1]\n",
            "{'without mask': 0, 'with mask': 1}\n"
          ],
          "name": "stdout"
        }
      ]
    },
    {
      "cell_type": "code",
      "metadata": {
        "id": "WAM9KnEM-xEF"
      },
      "source": [
        "# standard for image size\n",
        "img_size = 100\n",
        "data = []\n",
        "target = []\n",
        "\n",
        "for category in data_categories:\n",
        "    folder_path = os.path.join(dataset_path, category)\n",
        "    images = os.listdir(folder_path)\n",
        "    \n",
        "    for img in images:\n",
        "        img_path = os.path.join(folder_path, img)\n",
        "        img_matrix = cv2.imread(img_path)\n",
        "        \n",
        "        try:\n",
        "            # convertig to grayscale\n",
        "            gray = cv2.cvtColor(img_matrix, cv2.COLOR_BGR2GRAY)\n",
        "            # resizing image to a standard 100x100\n",
        "            resized = cv2.resize(gray, (img_size, img_size))\n",
        "            \n",
        "            data.append(resized)\n",
        "            target.append(label_dict[category])\n",
        "            \n",
        "        except Exception as e:\n",
        "            print(\"Exception: \", e)"
      ],
      "execution_count": 5,
      "outputs": []
    },
    {
      "cell_type": "code",
      "metadata": {
        "id": "NVmuxxkNBlSV"
      },
      "source": [
        "import numpy as np\n",
        "\n",
        "# normalizing images and reshaping to 4-D array\n",
        "data = np.array(data)/255.0\n",
        "data = np.reshape(data, (data.shape[0], img_size, img_size, 1))\n",
        "\n",
        "target = np.array(target)\n",
        "\n",
        "from keras.utils import np_utils\n",
        "\n",
        "new_target = np_utils.to_categorical(target)"
      ],
      "execution_count": 6,
      "outputs": []
    },
    {
      "cell_type": "code",
      "metadata": {
        "id": "eCabzkpNBrBb"
      },
      "source": [
        "np.save('data', data)\n",
        "np.save('target', new_target)"
      ],
      "execution_count": 7,
      "outputs": []
    }
  ]
}